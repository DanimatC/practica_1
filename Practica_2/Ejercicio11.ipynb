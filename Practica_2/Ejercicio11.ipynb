{
 "cells": [
  {
   "cell_type": "markdown",
   "id": "55814e6a",
   "metadata": {},
   "source": [
    "# **Ejercicio 11**\n",
    "\n",
    "* En signos es guardada una cadena con los signos de puntuacion.\n",
    "\n",
    "* Primero necesito leer los archivos de texto, y guardar cada uno en un string para poder trabajar con ellos.\n",
    "\n",
    "* Abro el primer archivo \"\" y guardo el objeto en *r*, y luego en *n_1* asigno la lista de strings de cada una de las lineas creada por **readlines()**.\n",
    "\n",
    "* Luego conecto cada uno de esos elementos de la lista de *n_1* en un solo string.\n"
   ]
  },
  {
   "cell_type": "code",
   "execution_count": 1,
   "id": "42405238",
   "metadata": {},
   "outputs": [],
   "source": [
    "import string\n",
    "signos = string.punctuation\n",
    "\n",
    "def abrirArchivos():\n",
    "    \"\"\"Abre los archivos de texto y devuelve 4 strings\"\"\"\n",
    "    with open('Ejercicio_11/nombres_1.txt') as r:\n",
    "        n_1 = r.readlines()\n",
    "        n_1 = ''.join(x for x in n_1)\n",
    "    with open('Ejercicio_11/nombres_2.txt') as r:\n",
    "        n_2 = r.readlines()\n",
    "        n_2 = ''.join(x for x in n_2)\n",
    "    with open('Ejercicio_11/eval1.txt') as r:\n",
    "        e_1 = r.readlines()\n",
    "        e_1 = ''.join(x for x in e_1)\n",
    "    with open('Ejercicio_11/eval2.txt') as r:\n",
    "        e_2 = r.readlines()\n",
    "        e_2 = ''.join(x for x in e_2)\n",
    "    return n_1, n_2, e_1, e_2"
   ]
  },
  {
   "cell_type": "markdown",
   "id": "3c17c1b5",
   "metadata": {},
   "source": [
    "* Este modulo devuelve listas con todos los datos de los txt, para no tener que abrir los archivos. "
   ]
  },
  {
   "cell_type": "code",
   "execution_count": 2,
   "id": "728c7277",
   "metadata": {},
   "outputs": [],
   "source": [
    "def abrirArchivosSinLeer():\n",
    "    \"\"\"Retorna 4 strings\"\"\"\n",
    "    n_1 = ('Agustin','Alan','Andrés','Ariadna','Bautista','CAROLINA','CESAR','David','Diego','Dolores','DYLAN',\n",
    "           'ELIANA','Emanuel','Fabián','Facundo','Facundo','FEDERICO','FEDERICO','GONZALO','Gregorio','Ignacio',\n",
    "           'Jonathan','Jonathan','Jorge','JOSE','JUAN','Juan','Juan','Julian','Julieta','LAUTARO','Leonel','LUIS',\n",
    "           'Luis','Marcos','María','MATEO','Matias','Nicolás','NICOLÁS','Noelia','Pablo','Priscila','TOMAS','Tomás',\n",
    "           'Ulises','Yanina')\n",
    "    n_2 = ('Agustin','AGUSTIN','Agustín','Ailen','Alfredo','Amalia','Ariana','Bautista','Braian','Carla','CESAR',\n",
    "           'Daniel','Diego','ELIANA','Facundo','Facundo','Facundo','Facundo','Federico','Federico','Flavia',\n",
    "           'Francisco','Germán','Guido','GUSTAVO','Hilario','Ignacio','IVAN','Jimmy','Joaquín','Jose','Josue',\n",
    "           'JUAN','Juan','Laura','LAURA','Lautaro','Lautaro','Ludmila','Marcos','Marcos','MARIANELA','MARTIN',\n",
    "           'MATEO','Mateo','Matias','MAURO','Maximiliano','NESTOR','Nicolas','Pedro','Ramiro','Sofía','Tobias',\n",
    "           'Tomás','Tomás','Ulises','Yanina')\n",
    "    e_1 = (81, 60, 72, 24, 15, 91, 12, 70, 29, 42, 16, 3, 35, 67, 10, 57, 11, 69, 12, 77, 13, 86, 48, 65, 51, 41,\n",
    "           87, 43, 10, 87, 91, 15, 44, 85, 73, 37, 42, 95, 18, 7, 74, 60, 9, 65, 93, 63, 74)\n",
    "    e_2 = (30, 95, 28, 84, 84, 43, 66, 51, 4, 11, 58, 10, 13, 34, 96, 71, 86, 37, 64, 13, 8, 87, 14, 14, 49, 27, \n",
    "           55, 69, 77, 59, 57, 40, 96, 24, 30, 73, 95, 19, 47, 15, 31, 39, 15, 74, 33, 57, 10)\n",
    "    return n_1, n_2, e_1, e_2"
   ]
  },
  {
   "cell_type": "markdown",
   "id": "58f2a97f",
   "metadata": {},
   "source": [
    "* El modulo de **ocurrencias** que recibe los strings de los archivos\n",
    "* Primero en *nom_1* genero un string con todos los caracteres menos los que se encuentran en los signos de    puntuacion\n",
    "* Todo el string creado, es puesto en minuscula con **lower()**\n",
    "* Por ultimo se crea una lista con todos los nombres con **split()**\n",
    "* Se eliminan las ocurrencias de *nom_1* y se ordena esa nueva lista\n",
    "* En *nueva_lista* guarda los elementos de *nom_1* que se encuentran en *nom_2*"
   ]
  },
  {
   "cell_type": "code",
   "execution_count": 3,
   "id": "0c58ed83",
   "metadata": {},
   "outputs": [],
   "source": [
    "def ocurrencias(nom_1: str, nom_2: str):\n",
    "    \"\"\"Genera una lista con los nombres que aparecen en ambas listas ingresadas por parametros.\"\"\"\n",
    "    nom_1 = ''.join(x for x in nom_1 if x not in signos).lower().split()\n",
    "    nom_2 = ''.join(x for x in nom_2 if x not in signos).lower().split()\n",
    "    nom_1 = list(set(nom_1))\n",
    "    nom_1.sort()\n",
    "    nueva_lista = [elem for elem in nom_1 if elem in nom_2]\n",
    "    return nueva_lista"
   ]
  },
  {
   "cell_type": "markdown",
   "id": "c50b6703",
   "metadata": {},
   "source": [
    "* El modulo **ocurrenciasSinLeer** genera en *nom_1* una lista sin ocurrencias y la ordena con todos sus elementos en minuscula, los elementos de *nom_2* tambien son puestos en minuscula.\n",
    "* Se crea *nueva_lista* con los elementos de *nom_1* que se encuentran en *nom_2*"
   ]
  },
  {
   "cell_type": "code",
   "execution_count": 4,
   "id": "fc6c6032",
   "metadata": {},
   "outputs": [],
   "source": [
    "def ocurrenciasSinLeer(nom_1: list, nom_2: list):\n",
    "    \"\"\"Genera una lista con los nombres que aparecen en ambas listas ingresadas por parametros.\"\"\"\n",
    "    nom_1 = list(set(nom_1))\n",
    "    nom_1 = list(map(lambda x: x.lower(),nom_1))\n",
    "    nom_1.sort()\n",
    "    nom_2 = list(map(lambda x: x.lower(),nom_2))\n",
    "    nueva_lista = [elem for elem in nom_1 if elem in nom_2]\n",
    "    return nueva_lista"
   ]
  },
  {
   "cell_type": "markdown",
   "id": "54df7c75",
   "metadata": {},
   "source": [
    "* En **generarPantalla** se procesan las listas nombre, ev1, ev2, separando nombres en elementos y convirtiendo los elementos de ev1 y ev2 en enteros\n",
    "* Se recorren las tres listas generadas a la vez y se imprime su contenido"
   ]
  },
  {
   "cell_type": "code",
   "execution_count": 5,
   "id": "472ca099",
   "metadata": {},
   "outputs": [],
   "source": [
    "def generarPantalla(nombres: list, ev1: list, ev2: list):\n",
    "    \"\"\"Escribe en pantalla a los alumnos y sus notas.\"\"\"\n",
    "    nombres = ''.join(x for x in nombres if x not in signos).split()\n",
    "    ev1 = ''.join(x for x in ev1 if x not in signos).split()\n",
    "    ev1 = list(map(lambda x: int(x),ev1))\n",
    "    ev2 = ''.join(x for x in ev2 if x not in signos).split()\n",
    "    ev2 = list(map(lambda x: int(x), ev2))\n",
    "    espacio = ' '\n",
    "    print(f'   Nombre{espacio*10} Eval1{espacio*5}Eval2{espacio*4}Total')\n",
    "    for i in range(len(nombres)):\n",
    "        suma = ev1[i] + ev2[i]\n",
    "        print(f'{i:>2} { nombres[i]:<10}{ev1[i]:>10}{ev2[i]:>10}{suma:>10}')\n",
    "    return"
   ]
  },
  {
   "cell_type": "markdown",
   "id": "9af6c9c2",
   "metadata": {},
   "source": [
    "* En **generarPantallasSinLeer** se recorren las tres listas a la vez y se imprime su contenido"
   ]
  },
  {
   "cell_type": "code",
   "execution_count": 6,
   "id": "ffa8bff4",
   "metadata": {},
   "outputs": [],
   "source": [
    "def generarPantallaSinLeer(nombres: list, ev1: list, ev2: list):\n",
    "    espacio = ' '\n",
    "    \"\"\"Escribe en pantalla a los alumnos y sus notas.\"\"\"\n",
    "    print(f'   Nombre{espacio*10} Eval1{espacio*5}Eval2{espacio*4}Total')\n",
    "    for i in range(len(nombres)):\n",
    "        suma = ev1[i] + ev2[i]\n",
    "        print(f'{i:>2} { nombres[i]:<10}{ev1[i]:>10}{ev2[i]:>10}{suma:>10}')\n",
    "    return"
   ]
  },
  {
   "cell_type": "markdown",
   "id": "4963bcca",
   "metadata": {},
   "source": [
    "* Se utiliza solo el contenido ingresado en **abrirArchivosSinLeer**\n",
    "**Programa principal.**"
   ]
  },
  {
   "cell_type": "code",
   "execution_count": 7,
   "id": "2826fdb3",
   "metadata": {},
   "outputs": [
    {
     "name": "stdout",
     "output_type": "stream",
     "text": [
      "Lista con los nombres de los alumnos que aparecen en ambas listas: \n",
      "agustin\n",
      "bautista\n",
      "cesar\n",
      "diego\n",
      "eliana\n",
      "facundo\n",
      "federico\n",
      "ignacio\n",
      "jose\n",
      "juan\n",
      "juan\n",
      "lautaro\n",
      "marcos\n",
      "mateo\n",
      "matias\n",
      "tomás\n",
      "ulises\n",
      "yanina\n",
      "-------\n",
      "\n",
      "   Nombre           Eval1     Eval2    Total\n",
      " 0 Agustin           81        30       111\n",
      " 1 Alan              60        95       155\n",
      " 2 Andrés            72        28       100\n",
      " 3 Ariadna           24        84       108\n",
      " 4 Bautista          15        84        99\n",
      " 5 CAROLINA          91        43       134\n",
      " 6 CESAR             12        66        78\n",
      " 7 David             70        51       121\n",
      " 8 Diego             29         4        33\n",
      " 9 Dolores           42        11        53\n",
      "10 DYLAN             16        58        74\n",
      "11 ELIANA             3        10        13\n",
      "12 Emanuel           35        13        48\n",
      "13 Fabián            67        34       101\n",
      "14 Facundo           10        96       106\n",
      "15 Facundo           57        71       128\n",
      "16 FEDERICO          11        86        97\n",
      "17 FEDERICO          69        37       106\n",
      "18 GONZALO           12        64        76\n",
      "19 Gregorio          77        13        90\n",
      "20 Ignacio           13         8        21\n",
      "21 Jonathan          86        87       173\n",
      "22 Jonathan          48        14        62\n",
      "23 Jorge             65        14        79\n",
      "24 JOSE              51        49       100\n",
      "25 JUAN              41        27        68\n",
      "26 Juan              87        55       142\n",
      "27 Juan              43        69       112\n",
      "28 Julian            10        77        87\n",
      "29 Julieta           87        59       146\n",
      "30 LAUTARO           91        57       148\n",
      "31 Leonel            15        40        55\n",
      "32 LUIS              44        96       140\n",
      "33 Luis              85        24       109\n",
      "34 Marcos            73        30       103\n",
      "35 María             37        73       110\n",
      "36 MATEO             42        95       137\n",
      "37 Matias            95        19       114\n",
      "38 Nicolás           18        47        65\n",
      "39 NICOLÁS            7        15        22\n",
      "40 Noelia            74        31       105\n",
      "41 Pablo             60        39        99\n",
      "42 Priscila           9        15        24\n",
      "43 TOMAS             65        74       139\n",
      "44 Tomás             93        33       126\n",
      "45 Ulises            63        57       120\n",
      "46 Yanina            74        10        84\n"
     ]
    }
   ],
   "source": [
    "nombres_1, nombres_2, eval_1, eval_2 = abrirArchivosSinLeer()\n",
    "ocur_nomb = ocurrenciasSinLeer(nombres_1,nombres_2)\n",
    "print('Lista con los nombres de los alumnos que aparecen en ambas listas: ')\n",
    "for elem in ocur_nomb:\n",
    "    print(elem)\n",
    "print('-------\\n')\n",
    "generarPantallaSinLeer(nombres_1,eval_1,eval_2)"
   ]
  },
  {
   "cell_type": "code",
   "execution_count": null,
   "id": "a1c8d7a4",
   "metadata": {},
   "outputs": [],
   "source": []
  }
 ],
 "metadata": {
  "kernelspec": {
   "display_name": "Python 3 (ipykernel)",
   "language": "python",
   "name": "python3"
  },
  "language_info": {
   "codemirror_mode": {
    "name": "ipython",
    "version": 3
   },
   "file_extension": ".py",
   "mimetype": "text/x-python",
   "name": "python",
   "nbconvert_exporter": "python",
   "pygments_lexer": "ipython3",
   "version": "3.10.2"
  }
 },
 "nbformat": 4,
 "nbformat_minor": 5
}
